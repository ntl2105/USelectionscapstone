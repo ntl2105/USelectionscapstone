{
 "cells": [
  {
   "cell_type": "markdown",
   "metadata": {},
   "source": [
    "FEATURE SELECTION"
   ]
  },
  {
   "cell_type": "code",
   "execution_count": 6,
   "metadata": {
    "collapsed": false
   },
   "outputs": [],
   "source": [
    "import sklearn\n",
    "%matplotlib inline\n",
    "import numpy as np\n",
    "import sklearn.model_selection as ms\n",
    "import sklearn.cross_validation as cv\n",
    "import pandas as pd\n",
    "import numpy as np"
   ]
  },
  {
   "cell_type": "code",
   "execution_count": 7,
   "metadata": {
    "collapsed": false
   },
   "outputs": [],
   "source": [
    "df = pd.read_csv(\"US_County_Level_Presidential_Results_12-16.csv\")\n",
    "county_facts = pd.read_csv(\"county_facts.csv\")\n",
    "df08 = pd.read_csv(\"US_County_Level_Presidential_Results_08-16.csv\")"
   ]
  },
  {
   "cell_type": "code",
   "execution_count": 8,
   "metadata": {
    "collapsed": true
   },
   "outputs": [],
   "source": [
    "from sklearn.preprocessing import MinMaxScaler\n",
    "scaler = MinMaxScaler()"
   ]
  },
  {
   "cell_type": "code",
   "execution_count": 9,
   "metadata": {
    "collapsed": false
   },
   "outputs": [
    {
     "name": "stderr",
     "output_type": "stream",
     "text": [
      "/anaconda/lib/python2.7/site-packages/ipykernel/__main__.py:2: DeprecationWarning: \n",
      ".ix is deprecated. Please use\n",
      ".loc for label based indexing or\n",
      ".iloc for positional indexing\n",
      "\n",
      "See the documentation here:\n",
      "http://pandas.pydata.org/pandas-docs/stable/indexing.html#deprecate_ix\n",
      "  from ipykernel import kernelapp as app\n"
     ]
    }
   ],
   "source": [
    "ncf = pd.read_csv('PCA-CLUSTER-Data.csv')\n",
    "ncf = ncf.ix[:,'PST045214':]\n",
    "ncf = ncf._get_numeric_data()"
   ]
  },
  {
   "cell_type": "code",
   "execution_count": 10,
   "metadata": {
    "collapsed": false
   },
   "outputs": [
    {
     "data": {
      "text/html": [
       "<div>\n",
       "<style>\n",
       "    .dataframe thead tr:only-child th {\n",
       "        text-align: right;\n",
       "    }\n",
       "\n",
       "    .dataframe thead th {\n",
       "        text-align: left;\n",
       "    }\n",
       "\n",
       "    .dataframe tbody tr th {\n",
       "        vertical-align: top;\n",
       "    }\n",
       "</style>\n",
       "<table border=\"1\" class=\"dataframe\">\n",
       "  <thead>\n",
       "    <tr style=\"text-align: right;\">\n",
       "      <th></th>\n",
       "      <th>PST045214</th>\n",
       "      <th>PST040210</th>\n",
       "      <th>PST120214</th>\n",
       "      <th>POP010210</th>\n",
       "      <th>AGE135214</th>\n",
       "      <th>AGE295214</th>\n",
       "      <th>AGE775214</th>\n",
       "      <th>SEX255214</th>\n",
       "      <th>RHI125214</th>\n",
       "      <th>RHI225214</th>\n",
       "      <th>...</th>\n",
       "      <th>MAN450207</th>\n",
       "      <th>WTN220207</th>\n",
       "      <th>RTN130207</th>\n",
       "      <th>RTN131207</th>\n",
       "      <th>AFN120207</th>\n",
       "      <th>BPS030214</th>\n",
       "      <th>LND110210</th>\n",
       "      <th>POP060210</th>\n",
       "      <th>Outcome_2016</th>\n",
       "      <th>Outcome_2012</th>\n",
       "    </tr>\n",
       "  </thead>\n",
       "  <tbody>\n",
       "    <tr>\n",
       "      <th>0</th>\n",
       "      <td>0.005467</td>\n",
       "      <td>0.005550</td>\n",
       "      <td>0.205784</td>\n",
       "      <td>0.005550</td>\n",
       "      <td>0.368852</td>\n",
       "      <td>0.514451</td>\n",
       "      <td>0.198770</td>\n",
       "      <td>0.797753</td>\n",
       "      <td>0.772582</td>\n",
       "      <td>0.219741</td>\n",
       "      <td>...</td>\n",
       "      <td>0.000000</td>\n",
       "      <td>0.0</td>\n",
       "      <td>0.005022</td>\n",
       "      <td>0.148552</td>\n",
       "      <td>0.003546</td>\n",
       "      <td>0.003270</td>\n",
       "      <td>0.004072</td>\n",
       "      <td>0.001321</td>\n",
       "      <td>1.0</td>\n",
       "      <td>1.0</td>\n",
       "    </tr>\n",
       "    <tr>\n",
       "      <th>1</th>\n",
       "      <td>0.019772</td>\n",
       "      <td>0.018555</td>\n",
       "      <td>0.298109</td>\n",
       "      <td>0.018555</td>\n",
       "      <td>0.336066</td>\n",
       "      <td>0.427746</td>\n",
       "      <td>0.299180</td>\n",
       "      <td>0.790262</td>\n",
       "      <td>0.870351</td>\n",
       "      <td>0.112808</td>\n",
       "      <td>...</td>\n",
       "      <td>0.008331</td>\n",
       "      <td>0.0</td>\n",
       "      <td>0.024905</td>\n",
       "      <td>0.212450</td>\n",
       "      <td>0.017578</td>\n",
       "      <td>0.034548</td>\n",
       "      <td>0.010912</td>\n",
       "      <td>0.001650</td>\n",
       "      <td>1.0</td>\n",
       "      <td>1.0</td>\n",
       "    </tr>\n",
       "    <tr>\n",
       "      <th>2</th>\n",
       "      <td>0.002649</td>\n",
       "      <td>0.002788</td>\n",
       "      <td>0.165740</td>\n",
       "      <td>0.002788</td>\n",
       "      <td>0.344262</td>\n",
       "      <td>0.398844</td>\n",
       "      <td>0.254098</td>\n",
       "      <td>0.617978</td>\n",
       "      <td>0.478215</td>\n",
       "      <td>0.559342</td>\n",
       "      <td>...</td>\n",
       "      <td>0.000000</td>\n",
       "      <td>0.0</td>\n",
       "      <td>0.001581</td>\n",
       "      <td>0.078391</td>\n",
       "      <td>0.000000</td>\n",
       "      <td>0.000200</td>\n",
       "      <td>0.006068</td>\n",
       "      <td>0.000446</td>\n",
       "      <td>1.0</td>\n",
       "      <td>0.0</td>\n",
       "    </tr>\n",
       "    <tr>\n",
       "      <th>3</th>\n",
       "      <td>0.002216</td>\n",
       "      <td>0.002326</td>\n",
       "      <td>0.169077</td>\n",
       "      <td>0.002326</td>\n",
       "      <td>0.311475</td>\n",
       "      <td>0.393064</td>\n",
       "      <td>0.219262</td>\n",
       "      <td>0.591760</td>\n",
       "      <td>0.755579</td>\n",
       "      <td>0.259694</td>\n",
       "      <td>...</td>\n",
       "      <td>0.000000</td>\n",
       "      <td>0.0</td>\n",
       "      <td>0.001047</td>\n",
       "      <td>0.071832</td>\n",
       "      <td>0.000433</td>\n",
       "      <td>0.000474</td>\n",
       "      <td>0.004265</td>\n",
       "      <td>0.000530</td>\n",
       "      <td>1.0</td>\n",
       "      <td>1.0</td>\n",
       "    </tr>\n",
       "    <tr>\n",
       "      <th>4</th>\n",
       "      <td>0.005697</td>\n",
       "      <td>0.005830</td>\n",
       "      <td>0.196885</td>\n",
       "      <td>0.005830</td>\n",
       "      <td>0.377049</td>\n",
       "      <td>0.468208</td>\n",
       "      <td>0.264344</td>\n",
       "      <td>0.764045</td>\n",
       "      <td>0.964931</td>\n",
       "      <td>0.021152</td>\n",
       "      <td>...</td>\n",
       "      <td>0.002018</td>\n",
       "      <td>0.0</td>\n",
       "      <td>0.002684</td>\n",
       "      <td>0.069579</td>\n",
       "      <td>0.000842</td>\n",
       "      <td>0.000075</td>\n",
       "      <td>0.004418</td>\n",
       "      <td>0.001280</td>\n",
       "      <td>1.0</td>\n",
       "      <td>1.0</td>\n",
       "    </tr>\n",
       "  </tbody>\n",
       "</table>\n",
       "<p>5 rows × 53 columns</p>\n",
       "</div>"
      ],
      "text/plain": [
       "   PST045214  PST040210  PST120214  POP010210  AGE135214  AGE295214  \\\n",
       "0   0.005467   0.005550   0.205784   0.005550   0.368852   0.514451   \n",
       "1   0.019772   0.018555   0.298109   0.018555   0.336066   0.427746   \n",
       "2   0.002649   0.002788   0.165740   0.002788   0.344262   0.398844   \n",
       "3   0.002216   0.002326   0.169077   0.002326   0.311475   0.393064   \n",
       "4   0.005697   0.005830   0.196885   0.005830   0.377049   0.468208   \n",
       "\n",
       "   AGE775214  SEX255214  RHI125214  RHI225214      ...       MAN450207  \\\n",
       "0   0.198770   0.797753   0.772582   0.219741      ...        0.000000   \n",
       "1   0.299180   0.790262   0.870351   0.112808      ...        0.008331   \n",
       "2   0.254098   0.617978   0.478215   0.559342      ...        0.000000   \n",
       "3   0.219262   0.591760   0.755579   0.259694      ...        0.000000   \n",
       "4   0.264344   0.764045   0.964931   0.021152      ...        0.002018   \n",
       "\n",
       "   WTN220207  RTN130207  RTN131207  AFN120207  BPS030214  LND110210  \\\n",
       "0        0.0   0.005022   0.148552   0.003546   0.003270   0.004072   \n",
       "1        0.0   0.024905   0.212450   0.017578   0.034548   0.010912   \n",
       "2        0.0   0.001581   0.078391   0.000000   0.000200   0.006068   \n",
       "3        0.0   0.001047   0.071832   0.000433   0.000474   0.004265   \n",
       "4        0.0   0.002684   0.069579   0.000842   0.000075   0.004418   \n",
       "\n",
       "   POP060210  Outcome_2016  Outcome_2012  \n",
       "0   0.001321           1.0           1.0  \n",
       "1   0.001650           1.0           1.0  \n",
       "2   0.000446           1.0           0.0  \n",
       "3   0.000530           1.0           1.0  \n",
       "4   0.001280           1.0           1.0  \n",
       "\n",
       "[5 rows x 53 columns]"
      ]
     },
     "execution_count": 10,
     "metadata": {},
     "output_type": "execute_result"
    }
   ],
   "source": [
    "ncf_scaled = pd.DataFrame(scaler.fit_transform(ncf), columns=ncf.columns)\n",
    "ncf_scaled.head()"
   ]
  },
  {
   "cell_type": "code",
   "execution_count": 11,
   "metadata": {
    "collapsed": true
   },
   "outputs": [],
   "source": [
    "ncf_x = ncf_scaled.iloc[:,0:51]\n",
    "ncf_y_16 = ncf_scaled.iloc[:,51]\n",
    "ncf_y_12 = ncf_scaled.iloc[:,52]"
   ]
  },
  {
   "cell_type": "code",
   "execution_count": null,
   "metadata": {
    "collapsed": true
   },
   "outputs": [],
   "source": []
  },
  {
   "cell_type": "code",
   "execution_count": 2,
   "metadata": {
    "collapsed": true
   },
   "outputs": [],
   "source": [
    "# Lets get it, find a logistical regression"
   ]
  },
  {
   "cell_type": "code",
   "execution_count": 4,
   "metadata": {
    "collapsed": false
   },
   "outputs": [],
   "source": [
    "from sklearn import linear_model\n",
    "\n",
    "logit = linear_model.LogisticRegression()\n",
    "train_error = []\n",
    "test_error = []"
   ]
  },
  {
   "cell_type": "code",
   "execution_count": 18,
   "metadata": {
    "collapsed": true
   },
   "outputs": [],
   "source": [
    "for i in range(5):\n",
    "    x_train, x_test, y_train, y_test = ms.train_test_split(ncf_x, ncf_y_12, test_size=1.0/3, random_state=i)\n",
    "    logit.fit(x_train, y_train)\n",
    "    train_error.append(1 - logit.score(x_train, y_train))\n",
    "    test_error.append(1 - logit.score(x_test, y_test))"
   ]
  },
  {
   "cell_type": "code",
   "execution_count": 19,
   "metadata": {
    "collapsed": false
   },
   "outputs": [
    {
     "name": "stdout",
     "output_type": "stream",
     "text": [
      "Training Error: [ 0.075   0.0726  0.0826  0.0759  0.0788  0.1261  0.1337  0.1313  0.1347\n",
      "  0.1309  0.075   0.0726  0.0826  0.0759  0.0788  0.1261  0.1337  0.1313\n",
      "  0.1347  0.1309]\n",
      "Test Error: [ 0.0831  0.0831  0.0669  0.084   0.0831  0.1452  0.1251  0.1261  0.1309\n",
      "  0.1318  0.0831  0.0831  0.0669  0.084   0.0831  0.1452  0.1251  0.1261\n",
      "  0.1309  0.1318]\n",
      "Test Error Mean: 0.105922\n",
      "Test Error SD: 0.026786\n"
     ]
    }
   ],
   "source": [
    "print('Training Error: {}'.format(np.round(np.array(train_error), 4))) # training error\n",
    "print('Test Error: {}'.format(np.round(np.array(test_error), 4))) # test error\n",
    "\n",
    "## calculate the mean of the test error\n",
    "print('Test Error Mean: {:6f}'.format(np.mean(test_error)))\n",
    "\n",
    "## calculate the standard deviation of the test errors\n",
    "print('Test Error SD: {:6f}'.format(np.std(test_error)))"
   ]
  },
  {
   "cell_type": "code",
   "execution_count": 16,
   "metadata": {
    "collapsed": true
   },
   "outputs": [],
   "source": [
    "for i in range(5):\n",
    "    x_train, x_test, y_train, y_test = ms.train_test_split(ncf_x, ncf_y_16, test_size=1.0/3, random_state=i)\n",
    "    logit.fit(x_train, y_train)\n",
    "    train_error.append(1 - logit.score(x_train, y_train))\n",
    "    test_error.append(1 - logit.score(x_test, y_test))"
   ]
  },
  {
   "cell_type": "code",
   "execution_count": 17,
   "metadata": {
    "collapsed": false
   },
   "outputs": [
    {
     "name": "stdout",
     "output_type": "stream",
     "text": [
      "Training Error: [ 0.075   0.0726  0.0826  0.0759  0.0788  0.1261  0.1337  0.1313  0.1347\n",
      "  0.1309  0.075   0.0726  0.0826  0.0759  0.0788]\n",
      "Test Error: [ 0.0831  0.0831  0.0669  0.084   0.0831  0.1452  0.1251  0.1261  0.1309\n",
      "  0.1318  0.0831  0.0831  0.0669  0.084   0.0831]\n",
      "Test Error Mean: 0.097294\n",
      "Test Error SD: 0.025332\n"
     ]
    }
   ],
   "source": [
    "print('Training Error: {}'.format(np.round(np.array(train_error), 4))) # training error\n",
    "print('Test Error: {}'.format(np.round(np.array(test_error), 4))) # test error\n",
    "\n",
    "## calculate the mean of the test error\n",
    "print('Test Error Mean: {:6f}'.format(np.mean(test_error)))\n",
    "\n",
    "## calculate the standard deviation of the test errors\n",
    "print('Test Error SD: {:6f}'.format(np.std(test_error)))"
   ]
  },
  {
   "cell_type": "code",
   "execution_count": 26,
   "metadata": {
    "collapsed": false
   },
   "outputs": [
    {
     "name": "stdout",
     "output_type": "stream",
     "text": [
      "Scores: [ 0.92425207  0.90700637]\n",
      "Score mean: 0.915629219086\n",
      "Score std deviation: 0.00862284965964\n"
     ]
    }
   ],
   "source": [
    "logit = linear_model.LogisticRegression()\n",
    "scores = ms.cross_val_score(estimator=logit, X=ncf_x, y=ncf_y_16, cv=2)\n",
    "\n",
    "print('Scores: {}'.format(scores))\n",
    "print('Score mean: {}'.format(scores.mean()))\n",
    "print('Score std deviation: {}'.format(scores.std()))"
   ]
  },
  {
   "cell_type": "code",
   "execution_count": null,
   "metadata": {
    "collapsed": true
   },
   "outputs": [],
   "source": []
  },
  {
   "cell_type": "code",
   "execution_count": 22,
   "metadata": {
    "collapsed": true
   },
   "outputs": [],
   "source": [
    "mean_error = []\n",
    "std_error = []\n",
    "kfold = range(3, 50)\n",
    "for i in kfold:\n",
    "    scores = ms.cross_val_score(logit, ncf_x, ncf_y_16, cv=i)\n",
    "    mean_error.append(1 - scores.mean())\n",
    "    std_error.append(scores.std())"
   ]
  },
  {
   "cell_type": "code",
   "execution_count": 23,
   "metadata": {
    "collapsed": false
   },
   "outputs": [
    {
     "data": {
      "image/png": "[encoded data removed]",
      "text/plain": [
       "<matplotlib.figure.Figure at 0x110684f10>"
      ]
     },
     "metadata": {},
     "output_type": "display_data"
    }
   ],
   "source": [
    "import matplotlib.pyplot as plt\n",
    "s1 = plt.scatter(kfold, mean_error, label='mean error')\n",
    "plt.plot(kfold, mean_error)\n",
    "s2 = plt.scatter(kfold, std_error, color='red', label='std')\n",
    "plt.plot(kfold, std_error, color='red')\n",
    "plt.xlim(0, 50)\n",
    "plt.xlabel('number of fold')\n",
    "plt.legend(handles=[s1, s2], loc=2)\n",
    "plt.show()"
   ]
  },
  {
   "cell_type": "code",
   "execution_count": null,
   "metadata": {
    "collapsed": true
   },
   "outputs": [],
   "source": []
  }
 ],
 "metadata": {
  "anaconda-cloud": {},
  "kernelspec": {
   "display_name": "Python [conda root]",
   "language": "python",
   "name": "conda-root-py"
  },
  "language_info": {
   "codemirror_mode": {
    "name": "ipython",
    "version": 2
   },
   "file_extension": ".py",
   "mimetype": "text/x-python",
   "name": "python",
   "nbconvert_exporter": "python",
   "pygments_lexer": "ipython2",
   "version": "2.7.12"
  }
 },
 "nbformat": 4,
 "nbformat_minor": 1
}
